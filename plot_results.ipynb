{
 "cells": [
  {
   "cell_type": "code",
   "execution_count": null,
   "metadata": {},
   "outputs": [],
   "source": [
    "import numpy as np\n",
    "\n",
    "import os\n",
    "\n",
    "from plot_helpers import plot_statistics, plot_mats\n",
    "from data_loader import gather_mat_files\n",
    "\n",
    "\n",
    "data_path = \"./experiments/\"\n",
    "save_path = \"./figures/\"\n",
    "if not os.path.exists(save_path):\n",
    "    os.mkdir(save_path)\n",
    "\n",
    "figsize = 0.75*np.array([4, 1.1*3])\n",
    "\n",
    "colors = [\"#D95319\", \"#007ac7\"]\n",
    "\n",
    "linewidth = 1.5\n",
    "\n",
    "markersize = 2.5\n",
    "markers = [\"o\", \"s\"]\n",
    "markevery = None\n",
    "\n",
    "threshold_costs = 1e-10\n",
    "threshold_procrustes = 1e-10"
   ]
  },
  {
   "cell_type": "markdown",
   "metadata": {},
   "source": [
    "# $n = 10$, $\\ell = 1$"
   ]
  },
  {
   "cell_type": "code",
   "execution_count": null,
   "metadata": {},
   "outputs": [],
   "source": [
    "mat_files = [\n",
    "    gather_mat_files(os.path.join(data_path, file))\n",
    "    for file in [\"l=1_k=2_n=10/\", \"l=1_k=1_n=10/\"]\n",
    "]\n",
    "\n",
    "title = r\"$\\ell = 1$\"\n",
    "labels = [r\"$k = \\ell + 1$\", r\"$k = \\ell$\"]\n",
    "\n",
    "plot_statistics(mat_files)\n",
    "\n",
    "fig, ax = plot_mats(\n",
    "    mat_files, labels, metric1=\"costs_reopt\", metric2=\"costs_ground_truths_reopt\", threshold=threshold_costs,\n",
    "    figsize=figsize, markersize=markersize, markers=markers, markevery=markevery, colors=colors, title=title\n",
    ")\n",
    "fig.savefig(\"figures/l=1_n=10_cost.pdf\")\n",
    "\n",
    "fig, ax = plot_mats(\n",
    "    mat_files, labels, metric1=\"normprocrustdiffysreopt_reopt\", metric2=None, threshold=threshold_procrustes,\n",
    "    figsize=figsize, markersize=markersize, markers=markers, markevery=markevery, colors=colors, title=title\n",
    ")\n",
    "fig.savefig(\"figures/l=1_n=10_norm.pdf\")"
   ]
  },
  {
   "cell_type": "markdown",
   "metadata": {},
   "source": [
    "# $n = 10$, $\\ell = 2$"
   ]
  },
  {
   "cell_type": "code",
   "execution_count": null,
   "metadata": {},
   "outputs": [],
   "source": [
    "mat_files = [\n",
    "    gather_mat_files(os.path.join(data_path, file))\n",
    "    for file in [\"l=2_k=3_n=10/\", \"l=2_k=2_n=10/\"]\n",
    "]\n",
    "\n",
    "title = r\"$\\ell = 2$\"\n",
    "labels = [r\"$k = \\ell + 1$\", r\"$k = \\ell$\"]\n",
    "\n",
    "plot_statistics(mat_files)\n",
    "\n",
    "fig, ax = plot_mats(\n",
    "    mat_files, labels, metric1=\"costs_reopt\", metric2=\"costs_ground_truths_reopt\", threshold=threshold_costs,\n",
    "    figsize=figsize, markersize=markersize, markers=markers, markevery=markevery, colors=colors, title=title\n",
    ")\n",
    "fig.savefig(\"figures/l=2_n=10_cost.pdf\")\n",
    "\n",
    "fig, ax = plot_mats(\n",
    "    mat_files, labels, metric1=\"normprocrustdiffysreopt_reopt\", metric2=None, threshold=threshold_procrustes,\n",
    "    figsize=figsize, markersize=markersize, markers=markers, markevery=markevery, colors=colors, title=title\n",
    ")\n",
    "fig.savefig(\"figures/l=2_n=10_norm.pdf\")"
   ]
  },
  {
   "cell_type": "markdown",
   "metadata": {},
   "source": [
    "# $n = 50$, $\\ell = 1$"
   ]
  },
  {
   "cell_type": "code",
   "execution_count": null,
   "metadata": {},
   "outputs": [],
   "source": [
    "mat_files = [\n",
    "    gather_mat_files(os.path.join(data_path, file))\n",
    "    for file in [\"l=1_k=2_n=50/\", \"l=1_k=1_n=50/\"]\n",
    "]\n",
    "\n",
    "title = r\"$\\ell = 1$\"\n",
    "labels = [r\"$k = \\ell + 1$\", r\"$k = \\ell$\"]\n",
    "markevery = np.ones(41, dtype=bool)\n",
    "markevery[10:41:2] = 0\n",
    "markevery[0:4:2] = 0\n",
    "\n",
    "plot_statistics(mat_files)\n",
    "\n",
    "fig, ax = plot_mats(\n",
    "    mat_files, labels, metric1=\"costs_reopt\", metric2=\"costs_ground_truths_reopt\", threshold=threshold_costs,\n",
    "    figsize=figsize, markersize=markersize, markers=markers, markevery=markevery, colors=colors, title=title\n",
    ")\n",
    "fig.savefig(\"figures/l=1_n=50_cost.pdf\")\n",
    "\n",
    "fig, ax = plot_mats(\n",
    "    mat_files, labels, metric1=\"normprocrustdiffysreopt_reopt\", metric2=None, threshold=threshold_procrustes,\n",
    "    figsize=figsize, markersize=markersize, markers=markers, markevery=markevery, colors=colors, title=title\n",
    ")\n",
    "fig.savefig(\"figures/l=1_n=50_norm.pdf\")"
   ]
  },
  {
   "cell_type": "markdown",
   "metadata": {},
   "source": [
    "# $n = 50$, $\\ell = 2$"
   ]
  },
  {
   "cell_type": "code",
   "execution_count": null,
   "metadata": {},
   "outputs": [],
   "source": [
    "mat_files = [\n",
    "    gather_mat_files(os.path.join(data_path, file))\n",
    "    for file in [\"l=2_k=3_n=50/\", \"l=2_k=2_n=50/\"]\n",
    "]\n",
    "\n",
    "title = r\"$\\ell = 2$\"\n",
    "labels = [r\"$k = \\ell + 1$\", r\"$k = \\ell$\"]\n",
    "\n",
    "plot_statistics(mat_files)\n",
    "\n",
    "fig, ax = plot_mats(\n",
    "    mat_files, labels, metric1=\"costs_reopt\", metric2=\"costs_ground_truths_reopt\", threshold=threshold_costs,\n",
    "    figsize=figsize, markersize=markersize, markers=markers, markevery=markevery, colors=colors, title=title)\n",
    "fig.savefig(\"figures/l=2_n=50_cost.pdf\")\n",
    "\n",
    "fig, ax = plot_mats(\n",
    "    mat_files, labels, metric1=\"normprocrustdiffysreopt_reopt\", metric2=None, threshold=threshold_procrustes,\n",
    "    figsize=figsize, markersize=markersize, markers=markers, markevery=markevery, colors=colors, title=title)\n",
    "fig.savefig(\"figures/l=2_n=50_norm.pdf\")"
   ]
  },
  {
   "cell_type": "markdown",
   "metadata": {},
   "source": [
    "# $n = 10$, $\\ell = 1$ with noise"
   ]
  },
  {
   "cell_type": "code",
   "execution_count": null,
   "metadata": {},
   "outputs": [],
   "source": [
    "mat_files = [\n",
    "    gather_mat_files(os.path.join(data_path, file))\n",
    "    for file in [\"l=1_k=2_n=10_noise\", \"l=1_k=1_n=10_noise\"]\n",
    "]\n",
    "\n",
    "title = r\"$\\ell = 1$\"\n",
    "labels = [r\"$k = \\ell + 1$\", r\"$k = \\ell$\"]\n",
    "\n",
    "plot_statistics(mat_files)\n",
    "\n",
    "fig, ax = plot_mats(\n",
    "    mat_files, labels, metric1=\"costs_reopt\", metric2=\"costs_ground_truths_reopt\", threshold=threshold_costs,\n",
    "    figsize=figsize, markersize=markersize, markers=markers, markevery=True, colors=colors, title=title\n",
    ")\n",
    "fig.savefig(\"figures/l=1_n=10_cost_noise.pdf\")\n",
    "\n",
    "fig, ax = plot_mats(\n",
    "    mat_files, labels, metric1=\"normprocrustdiffysreopt_reopt\", metric2=None, threshold=threshold_procrustes,\n",
    "    figsize=figsize, markersize=markersize, markers=markers, markevery=True, colors=colors, title=title\n",
    ")\n",
    "fig.savefig(\"figures/l=1_n=10_norm_noise.pdf\")"
   ]
  },
  {
   "cell_type": "markdown",
   "metadata": {},
   "source": [
    "# $n = 50$, $\\ell = 1$ with noise"
   ]
  },
  {
   "cell_type": "code",
   "execution_count": null,
   "metadata": {},
   "outputs": [],
   "source": [
    "mat_files = [\n",
    "    gather_mat_files(os.path.join(data_path, file))\n",
    "    for file in [\"l=1_k=2_n=50_noise\", \"l=1_k=1_n=50_noise\"]\n",
    "]\n",
    "\n",
    "title = r\"$\\ell = 1$\"\n",
    "labels = [r\"$k = \\ell + 1$\", r\"$k = \\ell$\"]\n",
    "\n",
    "plot_statistics(mat_files)\n",
    "\n",
    "fig, ax = plot_mats(\n",
    "    mat_files, labels, metric1=\"costs_reopt\", metric2=\"costs_ground_truths_reopt\", threshold=threshold_costs,\n",
    "    figsize=figsize, markersize=markersize, markers=markers, markevery=True, colors=colors, title=title\n",
    ")\n",
    "fig.savefig(\"figures/l=1_n=50_cost_noise.pdf\")\n",
    "\n",
    "fig, ax = plot_mats(\n",
    "    mat_files, labels, metric1=\"normprocrustdiffysreopt_reopt\", metric2=None, threshold=threshold_procrustes,\n",
    "    figsize=figsize, markersize=markersize, markers=markers, markevery=True, colors=colors, title=title\n",
    ")\n",
    "fig.savefig(\"figures/l=1_n=50_norm_noise.pdf\")"
   ]
  },
  {
   "cell_type": "code",
   "execution_count": null,
   "metadata": {},
   "outputs": [],
   "source": []
  }
 ],
 "metadata": {
  "kernelspec": {
   "display_name": "Python 3",
   "language": "python",
   "name": "python3"
  },
  "language_info": {
   "codemirror_mode": {
    "name": "ipython",
    "version": 3
   },
   "file_extension": ".py",
   "mimetype": "text/x-python",
   "name": "python",
   "nbconvert_exporter": "python",
   "pygments_lexer": "ipython3",
   "version": "3.8.5"
  }
 },
 "nbformat": 4,
 "nbformat_minor": 4
}
